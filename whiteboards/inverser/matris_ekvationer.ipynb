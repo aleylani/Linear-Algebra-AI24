{
 "cells": [
  {
   "cell_type": "markdown",
   "metadata": {
    "vscode": {
     "languageId": "plaintext"
    }
   },
   "source": [
    "### Solving Matrix Equations using Inverses\n",
    "\n",
    "**What is a Matrix Equation?**\n",
    "\n",
    "A matrix equation of the form $AX = B$ involves three $2 \\times 2$ matrices:\n",
    "- $A$ and $B$, which are known matrices, and $X$ - an unknown matrix.\n",
    "\n",
    "To solve for $X$, we can use the inverse of $A$, provided $A$ is invertible.\n",
    "\n",
    "---\n"
   ]
  },
  {
   "cell_type": "markdown",
   "metadata": {
    "vscode": {
     "languageId": "plaintext"
    }
   },
   "source": [
    "**Steps for solving for $AX = B$**\n",
    "\n",
    "To solve for $X$, we follow these steps:\n",
    "1. **Find $A^{-1}$**, the inverse of $A$.\n",
    "2. **Left-multiply both sides** of the equation by $A^{-1}$:\n",
    "   $$A^{-1} AX = A^{-1} B,$$\n",
    "   $$IX = A^{-1} B,$$\n",
    "   $$X = A^{-1} B.$$\n",
    "\n",
    "Note that the property $A^{-1} A = I$ simplifies the left-hand side to $X$.\n",
    "\n",
    "We can now find the unkown matrix $X$ by caclulating $A^{-1} B$, which are both known matrices.\n",
    "\n",
    "---"
   ]
  },
  {
   "cell_type": "markdown",
   "metadata": {},
   "source": [
    "#### Solved example for $2 \\times 2$ matrices\n",
    "\n",
    "Let:\n",
    "\n",
    "Assume we have $AX = B$ where:\n",
    "\n",
    "$$A = \\begin{pmatrix} 2 & 3 \\\\ 1 & 4 \\end{pmatrix}, \\quad B = \\begin{pmatrix} 5 & 7 \\\\ 2 & 6 \\end{pmatrix}.$$\n",
    "\n",
    "We will solve for $X$.\n",
    "\n",
    "\n",
    "---\n",
    "**Step 1**: Compute $A^{-1}$\n",
    "\n",
    "For a $2 \\times 2$ matrix \n",
    "\n",
    "$$A = \\begin{pmatrix} a & b \\\\ c & d \\end{pmatrix},$$ \n",
    "\n",
    "the inverse is given by:\n",
    "\n",
    "$$A^{-1} = \\frac{1}{ad-bc} \\begin{pmatrix} d & -b \\\\ -c & a \\end{pmatrix}$$\n",
    "\n",
    "In our case, $ad-bc = (2)(4) - (3)(1) = 8 - 3 = 5 \\neq 0$, and the inverse thus exists.\n",
    "\n",
    "We get:\n",
    "\n",
    "$$A^{-1} = \\frac{1}{5} \\begin{pmatrix} 4 & -3 \\\\ -1 & 2 \\end{pmatrix} = \\begin{pmatrix} \\frac{4}{5} & \\frac{-3}{5} \\\\ \\frac{-1}{5} & \\frac{2}{5} \\end{pmatrix}.$$\n",
    "---\n",
    "**Step 2**: Solve for $X$\n",
    "\n",
    "Now compute $X = A^{-1}B$:\n",
    "$$X = \\begin{pmatrix} \\frac{4}{5} & \\frac{-3}{5} \\\\ \\frac{-1}{5} & \\frac{2}{5} \\end{pmatrix} \\begin{pmatrix} 5 & 7 \\\\ 2 & 6 \\end{pmatrix}.$$\n",
    "\n",
    "Upon calculaton, you'll find that:\n",
    "\n",
    "$$X = \\begin{pmatrix} \\frac{14}{5} & \\frac{10}{5} \\\\ \\frac{-1}{5} & \\frac{5}{5} \\end{pmatrix}.$$\n",
    "\n",
    "Or, after simplifying further:\n",
    "\n",
    "$$X = \\begin{pmatrix} \\frac{14}{5} & 2 \\\\ \\frac{-1}{5} & 1 \\end{pmatrix}.$$\n",
    "\n",
    "**Solution**\n",
    "\n",
    "The solution to the equation $AX = B$ is thus:\n",
    "$$X = \\begin{pmatrix} \\frac{14}{5} & 2 \\\\ \\frac{-1}{5} & 1 \\end{pmatrix}.$$\n",
    "\n",
    "---\n"
   ]
  },
  {
   "cell_type": "markdown",
   "metadata": {},
   "source": [
    "**Verification**\n",
    "To verify the solution, we can check that $AX$ actually results in $B$\n",
    "\n",
    "Compute $AX$:\n",
    "\n",
    "$$AX = \\begin{pmatrix} 2 & 3 \\\\ 1 & 4 \\end{pmatrix} \\begin{pmatrix} \\frac{14}{5} & 2 \\\\ \\frac{-1}{5} & 1 \\end{pmatrix}.$$\n",
    "\n",
    "In this case, upon performing the matrix multiplication, we obtain:\n",
    "\n",
    "$$AX = \\begin{pmatrix} 5 & 7 \\\\ 2 & 6 \\end{pmatrix},$$\n",
    "\n",
    "as desired. Thus, the solution $X$ is verified."
   ]
  },
  {
   "cell_type": "markdown",
   "metadata": {},
   "source": [
    "---\n",
    "\n",
    "#### Equations for 3x3 matrices\n",
    "\n",
    "Equations involving 3x3 matrices follow the exact same structure. Suppose we have the equation $AX = B$.\n",
    "\n",
    "$A$ and $B$ are both known matrices while $X$ is unknown and needs to be solved for.\n",
    "\n",
    "The good news is that the procedure for solving for $X$ here is identitcal to the $2x2$ case. The only difference is that we need to put some more effort into finding the inverse $A^{-1}$ of $A$.\n",
    "\n",
    "Once we've found it however, we can solve for $X$ using the known relation \n",
    "\n",
    "$$X  = A^{-1}B.$$\n",
    "\n"
   ]
  }
 ],
 "metadata": {
  "language_info": {
   "name": "python"
  }
 },
 "nbformat": 4,
 "nbformat_minor": 2
}
