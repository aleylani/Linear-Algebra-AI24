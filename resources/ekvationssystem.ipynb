{
 "cells": [
  {
   "cell_type": "markdown",
   "metadata": {},
   "source": [
    "# Lecture on Solving Systems of Equations Using Gaussian Elimination\n",
    "\n",
    "## Objective:\n",
    "We will learn to solve the system of linear equations using **Gaussian Elimination** by performing **row operations**. The goal is to show two approaches: \n",
    "\n",
    "1. The standard method that might involve fractions.\n",
    "2. A longer method that avoids fractions for easier calculations.\n",
    "\n",
    "---\n"
   ]
  },
  {
   "cell_type": "markdown",
   "metadata": {},
   "source": [
    "Refresher: Recall that we strive to achieve the following **echelon form** for a matrix:\n",
    "\n",
    "$$\n",
    "\\begin{bmatrix}\n",
    "1 & 0 & | & A \\\\\n",
    "0 & 1 & | & B\n",
    "\\end{bmatrix}\n",
    "$$\n",
    "\n",
    "or, for 3D:\n",
    "\n",
    "$$\n",
    "\\begin{bmatrix}\n",
    "1 & 0 & 0 & | & A \\\\\n",
    "0 & 1 & 0 & | & B \\\\\n",
    "0 & 0 & 1 & | & C\n",
    "\\end{bmatrix}\n",
    "$$\n",
    "\n",
    "However, it's totally fine to also end up with these:\n",
    "\n",
    "$$\n",
    "\\begin{bmatrix}\n",
    "0 & 1 & | & B \\\\\n",
    "1 & 0 & | & A\n",
    "\\end{bmatrix}\n",
    "$$\n",
    "\n",
    "or, for 3D:\n",
    "\n",
    "$$\n",
    "\\begin{bmatrix}\n",
    "0 & 1 & 0 & | & B \\\\\n",
    "1 & 0 & 0 & | & A \\\\\n",
    "0 & 0 & 1 & | & C\n",
    "\\end{bmatrix}\n",
    "$$\n",
    "\n",
    "---"
   ]
  },
  {
   "cell_type": "markdown",
   "metadata": {},
   "source": [
    "## Example System:\n",
    "Solve the system of equations:\n",
    "\n",
    "$$\n",
    "3x + 9y = 3 \\tag{1}\n",
    "$$\n",
    "$$\n",
    "5x - 4y = -7 \\tag{2}\n",
    "$$\n",
    "\n",
    "We will first write the system in **augmented matrix form**:\n",
    "\n",
    "$$\n",
    "\\begin{bmatrix}\n",
    "3 & 9 & | & 3 \\\\\n",
    "5 & -4 & | & -7\n",
    "\\end{bmatrix}\n",
    "$$"
   ]
  },
  {
   "cell_type": "markdown",
   "metadata": {},
   "source": []
  },
  {
   "cell_type": "markdown",
   "metadata": {},
   "source": [
    "---\n",
    "\n",
    "## Method 1: Standard Gaussian Elimination (Fractions Included)\n",
    "\n",
    "The goal is to reduce this matrix to an upper triangular form where we can easily solve for \\(x\\) and \\(y\\). We will perform the row operations and may encounter fractions in the process.\n",
    "\n",
    "### Step 1: Eliminate the $x$-term in the second row\n",
    "\n",
    "We want to make the first entry of the second row $0$ so that the system becomes easier to solve. We subtract $\\frac{5}{3}$ of the first row from the second row.\n",
    "\n",
    "$$\n",
    "R_2 \\to R_2 - \\frac{5}{3} R_1\n",
    "$$\n",
    "\n",
    "##### Calculation:\n",
    "Multiply $R_1$ by $\\frac{5}{3}$:\n",
    "\n",
    "$$\n",
    "\\frac{5}{3} \\cdot \\begin{bmatrix} 3 & 9 & | & 3 \\end{bmatrix} = \\begin{bmatrix} 5 & 15 & | & 5 \\end{bmatrix}\n",
    "$$\n",
    "\n",
    "Now, subtract this from $R_2$:\n",
    "\n",
    "$$\n",
    "R_2 = \\begin{bmatrix} 5 & -4 & | & -7 \\end{bmatrix} - \\begin{bmatrix} 5 & 15 & | & 5 \\end{bmatrix} = \\begin{bmatrix} 0 & -19 & | & -12 \\end{bmatrix}\n",
    "$$\n",
    "\n",
    "#### New Augmented Matrix:\n",
    "$$\n",
    "\\begin{bmatrix}\n",
    "3 & 9 & | & 3 \\\\\n",
    "0 & -19 & | & -12\n",
    "\\end{bmatrix}\n",
    "$$\n",
    "\n"
   ]
  },
  {
   "cell_type": "markdown",
   "metadata": {},
   "source": [
    "---\n",
    "### Step 2: Make the leading coefficient in the first row equal to 1\n",
    "We divide the first row by 3 to make the leading coefficient in the first row equal to 1.\n",
    "\n",
    "$$\n",
    "R_1 \\to \\frac{1}{3} R_1\n",
    "$$\n",
    "\n",
    "##### Calculation:\n",
    "$$\n",
    "\\frac{1}{3} \\cdot \\begin{bmatrix} 3 & 9 & | & 3 \\end{bmatrix} = \\begin{bmatrix} 1 & 3 & | & 1 \\end{bmatrix}\n",
    "$$\n",
    "\n",
    "#### New Augmented Matrix:\n",
    "$$\n",
    "\\begin{bmatrix}\n",
    "1 & 3 & | & 1 \\\\\n",
    "0 & -19 & | & -12\n",
    "\\end{bmatrix}\n",
    "$$\n"
   ]
  },
  {
   "cell_type": "markdown",
   "metadata": {},
   "source": [
    "---"
   ]
  },
  {
   "cell_type": "markdown",
   "metadata": {},
   "source": [
    "### Step 3: Make the leading coefficient in the second row equal to 1\n",
    "We divide the second row by \\(-19\\) to make the leading coefficient in the second row equal to 1.\n",
    "\n",
    "$$\n",
    "R_2 \\to \\frac{1}{-19} R_2\n",
    "$$\n",
    "\n",
    "##### Calculation:\n",
    "$$\n",
    "\\frac{1}{-19} \\cdot \\begin{bmatrix} 0 & -19 & | & -12 \\end{bmatrix} = \\begin{bmatrix} 0 & 1 & | & \\frac{12}{19} \\end{bmatrix}\n",
    "$$\n",
    "\n",
    "#### New Augmented Matrix:\n",
    "$$\n",
    "\\begin{bmatrix}\n",
    "1 & 3 & | & 1 \\\\\n",
    "0 & 1 & | & \\frac{12}{19}\n",
    "\\end{bmatrix}\n",
    "$$\n"
   ]
  },
  {
   "cell_type": "markdown",
   "metadata": {},
   "source": [
    "---\n",
    "\n",
    "### Step 4: Eliminate the \\(y\\)-term in the first row\n",
    "We now eliminate the $y$-term from the first row by subtracting 3 times the second row from the first row.\n",
    "\n",
    "$$\n",
    "R_1 \\to R_1 - 3 R_2\n",
    "$$\n",
    "\n",
    "##### Calculation:\n",
    "Multiply $R_2$  by $3$:\n",
    "\n",
    "$$\n",
    "3 \\cdot \\begin{bmatrix} 0 & 1 & | & \\frac{12}{19} \\end{bmatrix} = \\begin{bmatrix} 0 & 3 & | & \\frac{36}{19} \\end{bmatrix}\n",
    "$$\n",
    "\n",
    "Now calculate $R_1 - 3 R_2$:\n",
    "\n",
    "$$\n",
    "R_1 = \\begin{bmatrix} 1 & 3 & | & 1 \\end{bmatrix} - \\begin{bmatrix} 0 & 3 & | & \\frac{36}{19} \\end{bmatrix} = \\begin{bmatrix} 1 & 0 & | & \\frac{-17}{19} \\end{bmatrix}\n",
    "$$\n",
    "\n",
    "#### New Augmented Matrix:\n",
    "$$\n",
    "\\begin{bmatrix}\n",
    "1 & 0 & | & \\frac{-17}{19} \\\\\n",
    "0 & 1 & | & \\frac{12}{19}\n",
    "\\end{bmatrix}\n",
    "$$\n"
   ]
  },
  {
   "cell_type": "markdown",
   "metadata": {},
   "source": [
    "---\n",
    "\n",
    "### **Solution:**\n",
    "From this final matrix, we can now read off the values of \\(x\\) and \\(y\\):\n",
    "\n",
    "$$\n",
    "x = \\frac{-17}{19}, \\quad y = \\frac{12}{19}\n",
    "$$\n"
   ]
  },
  {
   "cell_type": "markdown",
   "metadata": {},
   "source": [
    "---\n",
    "---\n",
    "---"
   ]
  },
  {
   "cell_type": "markdown",
   "metadata": {},
   "source": [
    "## Method 2: Avoiding Fractions (Longer but Simpler Approach)\n",
    "\n",
    "In this method, we will take more steps to avoid fractions and perform Gaussian elimination with integer coefficients throughout the process. We will work step-by-step, performing operations that do not introduce fractions.\n",
    "\n",
    "We still have the following **augmented matrix form**:\n",
    "\n",
    "$$\n",
    "\\begin{bmatrix}\n",
    "3 & 9 & | & 3 \\\\\n",
    "5 & -4 & | & -7\n",
    "\\end{bmatrix}\n",
    "$$\n"
   ]
  },
  {
   "cell_type": "markdown",
   "metadata": {},
   "source": [
    "---\n",
    "\n",
    "### Step 1: Subtract $1$-time the first row from the second row\n",
    "\n",
    "$$\n",
    "R_2 \\to R_2 - R_1\n",
    "$$\n",
    "\n",
    "##### Calculation:\n",
    "FIrst, simply calculate $R_2 - R_1$:\n",
    "\n",
    "$$\n",
    "R_2 = \\begin{bmatrix} 5 & -4 & | & -7 \\end{bmatrix} - \\begin{bmatrix} 3 & 9 & | & 3 \\end{bmatrix} = \\begin{bmatrix} 2 & -13 & | & -10 \\end{bmatrix}\n",
    "$$\n",
    "\n",
    "#### New Augmented Matrix:\n",
    "$$\n",
    "\\begin{bmatrix}\n",
    "3 & 9 & | & 3 \\\\\n",
    "2 & -13 & | & -10\n",
    "\\end{bmatrix}\n",
    "$$"
   ]
  },
  {
   "cell_type": "markdown",
   "metadata": {},
   "source": [
    "---\n"
   ]
  },
  {
   "cell_type": "markdown",
   "metadata": {},
   "source": [
    "### Step 2: Subtract $1$-time the second row from the first row\n",
    "\n",
    "\n",
    "$$\n",
    "R_1 \\to R_1 - R_2\n",
    "$$\n",
    "\n",
    "##### Calculation:\n",
    "\n",
    "$$\n",
    "R_1 = \\begin{bmatrix} 3 & 9 & | & 3 \\end{bmatrix} - \\begin{bmatrix} 2 & -13 & | & -10 \\end{bmatrix} = \\begin{bmatrix} 1 & 22 & | & 13 \\end{bmatrix}\n",
    "$$\n",
    "\n",
    "#### New Augmented Matrix:\n",
    "$$\n",
    "\\begin{bmatrix}\n",
    "1 & 22 & | & 13 \\\\\n",
    "2 & -13 & | & -10\n",
    "\\end{bmatrix}\n",
    "$$\n",
    "\n"
   ]
  },
  {
   "cell_type": "markdown",
   "metadata": {},
   "source": [
    "---\n",
    "\n",
    "### Step 3: Subtract $2$-times the first row from the second row\n",
    "\n",
    "To eliminate the $x$-term in the second row, we can now subtract $2$-times the first row from the second row.\n",
    "\n",
    "$$\n",
    "R_2 \\to R_2 - 2 R_1\n",
    "$$\n",
    "\n",
    "##### Calculation:\n",
    "\n",
    "\n",
    "$$\n",
    "2R_1 = 2 \\cdot \\begin{bmatrix} 1 & 22 & | & 13 \\end{bmatrix} = \\begin{bmatrix} 2 & 44 & | & 26 \\end{bmatrix}\n",
    "$$\n",
    "\n",
    "Using that, we get:\n",
    "\n",
    "$$\n",
    "R_2 = \\begin{bmatrix} 2 & -13 & | & -10 \\end{bmatrix} - \\begin{bmatrix} 2 & 44 & | & 26 \\end{bmatrix} = \\begin{bmatrix} 0 & -57 & | & -36 \\end{bmatrix}\n",
    "$$\n",
    "\n",
    "#### New Augmented Matrix:\n",
    "$$\n",
    "\\begin{bmatrix}\n",
    "1 & 22 & | & 13 \\\\\n",
    "0 & -57 & | & -36\n",
    "\\end{bmatrix}\n",
    "$$\n"
   ]
  },
  {
   "cell_type": "markdown",
   "metadata": {},
   "source": [
    "---"
   ]
  },
  {
   "cell_type": "markdown",
   "metadata": {},
   "source": [
    "### Step 4: Normalize the second row\n",
    "\n",
    "Now, we make the leading coefficient in the second row equal to 1 by dividing the second row by \\(-57\\).\n",
    "\n",
    "$$\n",
    "R_2 \\to \\frac{1}{-57} R_2\n",
    "$$\n",
    "\n",
    "##### Calculation:\n",
    "$$\n",
    "\\frac{1}{-57} \\cdot \\begin{bmatrix} 0 & -57 & | & -36 \\end{bmatrix} = \\begin{bmatrix} 0 & 1 & | & \\frac{36}{57} \\end{bmatrix}\n",
    "$$\n",
    "\n",
    "Simplify the fraction \\( \\frac{36}{57} = \\frac{12}{19} \\), so:\n",
    "\n",
    "$$\n",
    "R_2 = \\begin{bmatrix} 0 & 1 & | & \\frac{12}{19} \\end{bmatrix}\n",
    "$$\n",
    "\n",
    "#### New Augmented Matrix:\n",
    "$$\n",
    "\\begin{bmatrix}\n",
    "1 & 22 & | & 13 \\\\\n",
    "0 & 1 & | & \\frac{12}{19}\n",
    "\\end{bmatrix}\n",
    "$$\n"
   ]
  },
  {
   "cell_type": "markdown",
   "metadata": {},
   "source": [
    "---"
   ]
  },
  {
   "cell_type": "markdown",
   "metadata": {},
   "source": [
    "### Step 5: Eliminate the $y$-term in the first row\n",
    "\n",
    "To eliminate the $y$-term in the first row, we subtract $22$-times the second row from the first row.\n",
    "\n",
    "$$\n",
    "R_1 \\to R_1 - 22 R_2\n",
    "$$\n",
    "\n",
    "##### Calculation:\n",
    "\n",
    "\n",
    "$$\n",
    "22 R_2 = 22 \\cdot \\begin{bmatrix} 0 & 1 & | & \\frac{12}{19} \\end{bmatrix} = \\begin{bmatrix} 0 & 22 & | & \\frac{264}{19} \\end{bmatrix}\n",
    "$$\n",
    "\n",
    "Using that, we get:\n",
    "\n",
    "$$\n",
    "R_1 = \\begin{bmatrix} 1 & 22 & | & 13 \\end{bmatrix} - \\begin{bmatrix} 0 & 22 & | & \\frac{264}{19} \\end{bmatrix} = \\begin{bmatrix} 1 & 0 & | & 13 - \\frac{264}{19} \\end{bmatrix}\n",
    "$$\n",
    "\n",
    "After finding a common denominator, which is $19$ in this case, we get:\n",
    "\n",
    "$$\n",
    "13 = \\frac{247}{19}, \\quad \\frac{247}{19} - \\frac{264}{19} = \\frac{-17}{19}\n",
    "$$\n",
    "\n",
    "So we have:\n",
    "\n",
    "$$\n",
    "R_1 = \\begin{bmatrix} 1 & 0 & | & \\frac{-17}{19} \\end{bmatrix}\n",
    "$$\n",
    "\n",
    "#### New Augmented Matrix:\n",
    "$$\n",
    "\\begin{bmatrix}\n",
    "1 & 0 & | & \\frac{-17}{19} \\\\\n",
    "0 & 1 & | & \\frac{12}{19}\n",
    "\\end{bmatrix}\n",
    "$$\n"
   ]
  },
  {
   "cell_type": "markdown",
   "metadata": {},
   "source": [
    "---"
   ]
  },
  {
   "cell_type": "markdown",
   "metadata": {},
   "source": [
    "### **Solution:**\n",
    "From this final matrix, we can now read off the values of $x$ and $y$:\n",
    "\n",
    "$$\n",
    "x = \\frac{-17}{19}, \\quad y = \\frac{12}{19}\n",
    "$$\n"
   ]
  },
  {
   "cell_type": "markdown",
   "metadata": {},
   "source": [
    "___\n",
    "\n",
    "## NOTE\n",
    "\n",
    "Sometimes it helps to be smart and see if we can simplify the problem instantly!"
   ]
  },
  {
   "cell_type": "markdown",
   "metadata": {},
   "source": [
    "$$\n",
    "\\begin{bmatrix}\n",
    "3 & 9 & | & 3 \\\\\n",
    "5 & -4 & | & -7\n",
    "\\end{bmatrix}\n",
    "$$"
   ]
  },
  {
   "cell_type": "markdown",
   "metadata": {},
   "source": [
    "In this case, we can see that the first row is perfect candidate to be divided by 3. All numbers would come out looking neat!"
   ]
  },
  {
   "cell_type": "markdown",
   "metadata": {},
   "source": [
    "$$\n",
    "\\begin{bmatrix}\n",
    "1 & 3 & | & 1 \\\\\n",
    "5 & -4 & | & -7\n",
    "\\end{bmatrix}\n",
    "$$"
   ]
  },
  {
   "cell_type": "markdown",
   "metadata": {},
   "source": [
    "___\n",
    "\n",
    "## Example of no solutions"
   ]
  },
  {
   "cell_type": "markdown",
   "metadata": {},
   "source": [
    "Recall that we end up with no solutions if (assuming our calculations are correct) we end up with a contradiction."
   ]
  },
  {
   "cell_type": "markdown",
   "metadata": {},
   "source": [
    "$$\n",
    "\\begin{bmatrix}\n",
    "1 & 5 & | & 2 \\\\\n",
    "0 & 0 & | & -7\n",
    "\\end{bmatrix}\n",
    "$$"
   ]
  },
  {
   "cell_type": "markdown",
   "metadata": {},
   "source": [
    "The second row above implies that 0 = 7 which is a contradiction and thus the system has no solutions."
   ]
  },
  {
   "cell_type": "markdown",
   "metadata": {},
   "source": [
    "**Important**\n",
    "\n",
    "The following below is **NOT** a contradiction"
   ]
  },
  {
   "cell_type": "markdown",
   "metadata": {
    "vscode": {
     "languageId": "plaintext"
    }
   },
   "source": [
    "$$\n",
    "\\begin{bmatrix}\n",
    "1 & 5 & | & 2 \\\\\n",
    "0 & 2 & | & 0\n",
    "\\end{bmatrix}\n",
    "$$"
   ]
  },
  {
   "cell_type": "markdown",
   "metadata": {},
   "source": [
    "The second row above simply shows that $2y = 0$ which, again, is not a contradiction. It instead implies that $y=0$, which is completely valid.\n",
    "\n",
    "Let's solve this to see exactly what we mean.\n",
    "\n",
    "Let's start by dividing the second row by 2.\n",
    "\n",
    "$$\n",
    "\\begin{bmatrix}\n",
    "1 & 5 & | & 2 \\\\\n",
    "0 & 1 & | & 0\n",
    "\\end{bmatrix}\n",
    "$$\n",
    "\n"
   ]
  },
  {
   "cell_type": "markdown",
   "metadata": {},
   "source": [
    "Now subtract 5 times the second row from the first row.\n",
    "\n",
    "$$\n",
    "\\begin{bmatrix}\n",
    "1 & 0 & | & 2 \\\\\n",
    "0 & 1 & | & 0\n",
    "\\end{bmatrix}\n",
    "$$"
   ]
  },
  {
   "cell_type": "markdown",
   "metadata": {
    "vscode": {
     "languageId": "plaintext"
    }
   },
   "source": [
    "The solution to this system is thus $$x=2$$ $$ y = 0 $$"
   ]
  },
  {
   "cell_type": "markdown",
   "metadata": {},
   "source": [
    "---\n",
    "\n",
    "## Example of infinitely many solutions\n",
    "\n",
    "Infinitely many solutions are obtained when we have no contradictions and more variables than rows "
   ]
  },
  {
   "cell_type": "markdown",
   "metadata": {},
   "source": [
    "Example:\n",
    "\n",
    "$$\n",
    "\\begin{bmatrix}\n",
    "1 & 5 & | & 2 \\\\\n",
    "0 & 0 & | & 0\n",
    "\\end{bmatrix}\n",
    "$$"
   ]
  },
  {
   "cell_type": "markdown",
   "metadata": {},
   "source": [
    "Above we see that the second row implies 0 = 0. This is not a contradiction but we also see that the second row can now be disregarded since it adds no additional information. \n",
    "\n",
    "We are left with the first row which implies that $$x + 5y = 2$$."
   ]
  },
  {
   "cell_type": "markdown",
   "metadata": {},
   "source": [
    "Now we can set e.g., $y = t$, where $t$ is called a *parameter* and can be any real number."
   ]
  },
  {
   "cell_type": "markdown",
   "metadata": {},
   "source": [
    "We thus get, for each value of $t$, a solution that looks like this \n",
    "\n",
    "$$x = 2 - 5t$$\n",
    "$$y = t$$"
   ]
  }
 ],
 "metadata": {
  "language_info": {
   "name": "python"
  }
 },
 "nbformat": 4,
 "nbformat_minor": 2
}
