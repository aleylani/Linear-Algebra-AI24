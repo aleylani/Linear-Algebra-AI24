{
 "cells": [
  {
   "cell_type": "markdown",
   "metadata": {},
   "source": [
    "### Common linear algebra operations in NumPy\n",
    "\n",
    "Welcome to this lecture on performing common vector and matrix operations using NumPy in Python. \n",
    "\n",
    "This lecture assumes you have a theoretical foundation in linear algebra and will now learn how to implement these concepts programmatically.\n",
    "```"
   ]
  },
  {
   "cell_type": "markdown",
   "metadata": {},
   "source": [
    "---\n",
    "\n",
    "#### 0. Fractions and square roots\n",
    "\n",
    "We can write fractions and square roots quite easily in Python. For example, the fraction 1/3 can be written as:\"\"\"\n"
   ]
  },
  {
   "cell_type": "code",
   "execution_count": null,
   "metadata": {},
   "outputs": [],
   "source": [
    "fraction = 1/3\n",
    "print(fraction)"
   ]
  },
  {
   "cell_type": "markdown",
   "metadata": {},
   "source": [
    "And the square root of 2 can be written as"
   ]
  },
  {
   "cell_type": "code",
   "execution_count": null,
   "metadata": {},
   "outputs": [],
   "source": [
    "import numpy as np\n",
    "\n",
    "np.sqrt(2)"
   ]
  },
  {
   "cell_type": "markdown",
   "metadata": {},
   "source": [
    "Combined, a fraction with a square root, can be written as follows:\n",
    "\n",
    "Say that we want 3 over the square root of two."
   ]
  },
  {
   "cell_type": "code",
   "execution_count": null,
   "metadata": {},
   "outputs": [],
   "source": [
    "(3/np.sqrt(2))"
   ]
  },
  {
   "cell_type": "markdown",
   "metadata": {},
   "source": [
    "---"
   ]
  },
  {
   "cell_type": "markdown",
   "metadata": {},
   "source": [
    "### 1. Vectors: Addition, Subtraction, and Scalar Multiplication\n",
    "\n",
    "#### Theory\n",
    "A **vector** is a quantity defined by both magnitude and direction. Common operations on vectors include:\n",
    "\n",
    "- **Addition**: Component-wise addition of two vectors.\n",
    "- **Subtraction**: Component-wise subtraction of two vectors.\n",
    "- **Scalar Multiplication**: Scaling a vector by multiplying it by a scalar.\n",
    "```"
   ]
  },
  {
   "cell_type": "code",
   "execution_count": null,
   "metadata": {},
   "outputs": [],
   "source": [
    "import numpy as np\n",
    "\n",
    "# Define vectors in R^2\n",
    "\n",
    "a = np.array([2, 3])\n",
    "b = np.array([4, 1])\n",
    "\n",
    "# Vector addition\n",
    "add_result = a + b\n",
    "\n",
    "# Vector subtraction\n",
    "sub_result = a - b\n",
    "\n",
    "# Scalar multiplication\n",
    "scalar = 1/3\n",
    "scalar_mult_result = scalar * a\n",
    "\n",
    "print(\"Vector a:\", a)\n",
    "print(\"Vector b:\", b)\n",
    "print(\"Addition (a + b):\", add_result)\n",
    "print(\"Subtraction (a - b):\", sub_result)\n",
    "print(\"Scalar Multiplication (1/3 * a):\", scalar_mult_result)"
   ]
  },
  {
   "cell_type": "code",
   "execution_count": null,
   "metadata": {},
   "outputs": [],
   "source": [
    "import numpy as np\n",
    "\n",
    "# Define vectors in R^3\n",
    "\n",
    "a = np.array([2, 3, 10])\n",
    "b = np.array([4, 1, -20])\n",
    "\n",
    "# Vector addition\n",
    "add_result = a + b\n",
    "\n",
    "# Vector subtraction\n",
    "sub_result = a - b\n",
    "\n",
    "# Scalar multiplication\n",
    "scalar = 1/3\n",
    "scalar_mult_result = scalar * a\n",
    "\n",
    "print(\"Vector a:\", a)\n",
    "print(\"Vector b:\", b)\n",
    "print(\"Addition (a + b):\", add_result)\n",
    "print(\"Subtraction (a - b):\", sub_result)\n",
    "print(\"Scalar Multiplication (1/3 * a):\", scalar_mult_result)"
   ]
  },
  {
   "cell_type": "markdown",
   "metadata": {},
   "source": [
    "---\n",
    "\n",
    "### 2. Scalar Product (Dot Product)\n",
    "\n",
    "#### Theory\n",
    "The **scalar product** (or dot product) of two vectors $\\mathbf{a}$ and $\\mathbf{b}$ is defined as both:\n",
    "$$ \\mathbf{a} \\cdot \\mathbf{b} = a_1b_1 + a_2b_2 + \\cdots + a_nb_n $$\n",
    "\n",
    "and\n",
    "\n",
    "$$ \\mathbf{a} \\cdot \\mathbf{b} = |\\mathbf{a}||\\mathbf{b}|\\cos(\\theta) $$\n",
    "\n",
    "where $|\\mathbf{a}|$ and $|\\mathbf{b}|$ are the magnitudes of vectors $\\mathbf{a}$ and $\\mathbf{b}$, and $\\theta$ is the angle between them. \n",
    "\n",
    "The dot product is a scalar quantity - meaning, it is a single number, not a vector.\n",
    "\n",
    "The resulting scalar is useful for calculating angles and projections."
   ]
  },
  {
   "cell_type": "code",
   "execution_count": null,
   "metadata": {},
   "outputs": [],
   "source": [
    "# Define vectors\n",
    "a = np.array([1, 2, 3])\n",
    "b = np.array([4, 5, 6])\n",
    "\n",
    "# Dot product\n",
    "dot_product = np.dot(a, b)\n",
    "\n",
    "print(\"Vector a:\", a)\n",
    "print(\"Vector b:\", b)\n",
    "print(\"Dot Product (a \\u00b7 b):\", dot_product)"
   ]
  },
  {
   "cell_type": "markdown",
   "metadata": {},
   "source": [
    "---\n",
    "\n",
    "### 3. Solving Systems of Equations in $\\mathbb{R}^2$ and $\\mathbb{R}^3$\n",
    "\n",
    "#### Theory\n",
    "To solve a system of linear equations, of the type**:\n",
    "$$ 2x + y = 5 $$\n",
    "$$ x - y = 1 $$\n",
    "\n",
    "we find the values of $x$ and $y$ that satisfy both equations simultaneously. We can use this method to solve system of equations of any dimensionality, although we limit ourselves to 2D and 3D systems for this course."
   ]
  },
  {
   "cell_type": "code",
   "execution_count": null,
   "metadata": {},
   "outputs": [],
   "source": [
    "# System of equations in R^2:\n",
    "# 2x + y = 5\n",
    "# x - y = 1\n",
    "\n",
    "# Define matrix A and vector b\n",
    "A = np.array([[2, 1],\n",
    "              [1, -1]])\n",
    "\n",
    "b = np.array([5, 1])\n",
    "\n",
    "# Solve for x\n",
    "x = np.linalg.solve(A, b)\n",
    "\n",
    "print(\"Coefficient Matrix A:\")\n",
    "print(A)\n",
    "print(\"Result Vector b:\", b)\n",
    "print(\"Solution Vector x:\", x)"
   ]
  },
  {
   "cell_type": "code",
   "execution_count": null,
   "metadata": {},
   "outputs": [],
   "source": [
    "# System of equations in R^3:\n",
    "# x + y + z = 6\n",
    "# 2x - y + z = 3\n",
    "# x + 2y - z = 4\n",
    "\n",
    "A = np.array([[1, 1, 1],\n",
    "              [2, -1, 1],\n",
    "              [1, 2, -1]])\n",
    "\n",
    "b = np.array([6, 3, 4])\n",
    "\n",
    "x = np.linalg.solve(A, b)\n",
    "\n",
    "print(\"Solution Vector x:\", x)"
   ]
  },
  {
   "cell_type": "markdown",
   "metadata": {},
   "source": [
    "---\n",
    "\n",
    "### 4. Matrix Operations\n",
    "\n",
    "#### Theory\n",
    "Matrix operations include:\n",
    "\n",
    "- **Addition/Subtraction**: Component-wise operations.\n",
    "- **Multiplication**: The dot product of rows and columns.\n",
    "- **Transpose**: Flipping a matrix over its diagonal.\n",
    "- **Determinant**: A scalar value representing the matrix's scaling factor.\n",
    "\n",
    "We can also multiply matrices with vectors"
   ]
  },
  {
   "cell_type": "markdown",
   "metadata": {},
   "source": [
    "**Examples R^2**"
   ]
  },
  {
   "cell_type": "code",
   "execution_count": null,
   "metadata": {},
   "outputs": [],
   "source": [
    "# Define matrices\n",
    "\n",
    "A = np.array([[1, 2],\n",
    "              [3, 4]])\n",
    "B = np.array([[5, 6],\n",
    "              [7, 8]])\n",
    "\n",
    "# Matrix addition\n",
    "add_result = A + B\n",
    "\n",
    "# Matrix subtraction\n",
    "sub_result = A - B\n",
    "\n",
    "# Matrix multiplication\n",
    "mult_result = np.dot(A, B)\n",
    "\n",
    "# Transpose\n",
    "transpose_result = A.T\n",
    "\n",
    "print(\"Matrix A:\")\n",
    "print(A)\n",
    "print(\"Matrix B:\")\n",
    "print(B)\n",
    "print(\"Addition (A + B):\")\n",
    "print(add_result)\n",
    "print(\"Subtraction (A - B):\")\n",
    "print(sub_result)\n",
    "print(\"Multiplication (A · B):\")\n",
    "print(mult_result)\n",
    "print(\"Transpose of A:\")\n",
    "print(transpose_result)"
   ]
  },
  {
   "cell_type": "code",
   "execution_count": null,
   "metadata": {},
   "outputs": [],
   "source": [
    "# multypling a matrix with a vector\n",
    "\n",
    "A = np.array([[1, 2],\n",
    "              [3, 4]])\n",
    "b = np.array([5, 6])\n",
    "\n",
    "# Matrix-vector multiplication\n",
    "mult_result = np.dot(A, b)\n",
    "\n",
    "print(\"Matrix A:bolds\")\n",
    "print(A)\n",
    "print(\"Vector b:\", b)\n",
    "print(\"Multiplication (A · b):\")\n",
    "print(mult_result)"
   ]
  },
  {
   "cell_type": "markdown",
   "metadata": {},
   "source": [
    "**Examples R^3**"
   ]
  },
  {
   "cell_type": "code",
   "execution_count": null,
   "metadata": {},
   "outputs": [],
   "source": [
    "\n",
    "# Define matrices\n",
    "\n",
    "A = np.array([[1, 2, 3],\n",
    "              [4, 5, 6],\n",
    "              [7, 8, 9]])\n",
    "\n",
    "B = np.array([[10, 11, 12],\n",
    "              [13, 14, 15],\n",
    "              [16, 17, 18]])\n",
    "\n",
    "# Matrix addition\n",
    "add_result = A + B\n",
    "\n",
    "# Matrix subtraction\n",
    "sub_result = A - B\n",
    "\n",
    "# Matrix multiplication\n",
    "mult_result = np.dot(A, B)\n",
    "\n",
    "# Transpose\n",
    "transpose_result = A.T\n",
    "\n",
    "print(\"Matrix A\")\n",
    "print(A)\n",
    "print(\"Matrix B\")\n",
    "print(B)\n",
    "print(\"Addition (A + B)\")\n",
    "print(add_result)\n",
    "print(\"Subtraction (A - B)\")\n",
    "print(sub_result)\n",
    "print(\"Multiplication (A · B)\")\n",
    "print(mult_result)\n",
    "print(\"Transpose of A\")\n",
    "print(transpose_result)"
   ]
  },
  {
   "cell_type": "code",
   "execution_count": null,
   "metadata": {},
   "outputs": [],
   "source": [
    "# multypling a matrix with a vector\n",
    "\n",
    "A = np.array([[1, 2, 3],\n",
    "              [4, 5, 6],\n",
    "              [7, 8, 9]])\n",
    "b = np.array([10, 11, 12])\n",
    "\n",
    "# Matrix-vector multiplication\n",
    "mult_result = np.dot(A, b)\n",
    "\n",
    "print(\"Multiplication (A · b): \", mult_result)"
   ]
  },
  {
   "cell_type": "markdown",
   "metadata": {},
   "source": [
    "---\n",
    "\n",
    "### 5. Finding the Inverse of a Matrix\n",
    "\n",
    "#### Theory\n",
    "The **inverse** of a matrix $A$ is denoted $A^{-1}$ and satisfies:\n",
    "$$ A A^{-1} = I $$\n",
    "where $I$ is the identity matrix. Not all matrices have inverses; they must be square and have a non-zero determinant."
   ]
  },
  {
   "cell_type": "code",
   "execution_count": null,
   "metadata": {},
   "outputs": [],
   "source": [
    "# Define a square matrix\n",
    "A = np.array([[1, 2],\n",
    "              [3, 4]])\n",
    "\n",
    "# Inverse of A\n",
    "inverse_A = np.linalg.inv(A)\n",
    "\n",
    "# Verify the result\n",
    "identity = np.dot(A, inverse_A)\n",
    "\n",
    "print(\"Matrix A:\")\n",
    "print(A)\n",
    "print(\"Inverse of A:\")\n",
    "print(inverse_A)\n",
    "print(\"Verification (A · A^-1):\")\n",
    "print(identity)"
   ]
  },
  {
   "cell_type": "code",
   "execution_count": null,
   "metadata": {},
   "outputs": [],
   "source": []
  }
 ],
 "metadata": {
  "kernelspec": {
   "display_name": "hf2",
   "language": "python",
   "name": "python3"
  },
  "language_info": {
   "codemirror_mode": {
    "name": "ipython",
    "version": 3
   },
   "file_extension": ".py",
   "mimetype": "text/x-python",
   "name": "python",
   "nbconvert_exporter": "python",
   "pygments_lexer": "ipython3",
   "version": "3.11.11"
  }
 },
 "nbformat": 4,
 "nbformat_minor": 2
}
